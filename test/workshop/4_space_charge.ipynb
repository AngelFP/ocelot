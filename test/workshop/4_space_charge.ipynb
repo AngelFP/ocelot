{
 "cells": [
  {
   "cell_type": "markdown",
   "metadata": {},
   "source": [
    "*This notebook was created by [Sergey Tomin](http://www.xfel.eu/organization/staff/tomin_sergey/) for Workshop: [Designing future X-ray FELs](http://www.xrayfels.co.uk/). Source and license info is on [GitHub](https://github.com/iagapov/ocelot/tree/dev/docs). August 2016.*"
   ]
  },
  {
   "cell_type": "markdown",
   "metadata": {},
   "source": [
    "## Tutorial N4. Space Charge.\n",
    "*Second order tracking with space charge effect of the 200k particles.*\n",
    "\n",
    "The space charge forces are calculated by solving the Poisson equation in the bunch frame. \n",
    "Then the Lorentz transformed electromagnetic field is applied as a kick in the laboratory frame.\n",
    "For the solution of the Poisson equation we use an integral representation of the electrostatic potential by convolution of the free-space Green's function with the charge distribution. The convolution equation is solved with the help of the Fast Fourier Transform (FFT). The same algorithm for solution of the 3D Poisson equation is used, for example, in [ASTRA](http://www.desy.de/~mpyflo/).\n",
    "\n",
    "#### This example will cover the following topics:\n",
    "* Initialization of the Space Charge objects and the places of their applying\n",
    "* tracking of second order with space charge effect.\n",
    "\n",
    "#### Requirements \n",
    "* injector_lattice.py - input file, the The European XFEL Injector lattice.\n",
    "* beam_distrib.ast    - input file, initial beam distribution in ASTRA format (was obtained from s2e simulation performed with ASTRA)."
   ]
  },
  {
   "cell_type": "markdown",
   "metadata": {},
   "source": [
    "## Import of modules"
   ]
  },
  {
   "cell_type": "code",
   "execution_count": 7,
   "metadata": {
    "collapsed": false
   },
   "outputs": [],
   "source": [
    "# the output of plotting commands is displayed inline within frontends, \n",
    "# directly below the code cell that produced it\n",
    "%matplotlib inline\n",
    "\n",
    "# this python library provides generic shallow (copy) and deep copy (deepcopy) operations \n",
    "from copy import deepcopy\n",
    "\n",
    "# import from Ocelot main modules and functions\n",
    "from ocelot import *\n",
    "\n",
    "# import from Ocelot graphical modules\n",
    "from ocelot.gui.accelerator import *\n",
    "\n",
    "# import injector lattice\n",
    "from ocelot.test.workshop.injector_lattice import *\n",
    "\n",
    "# load beam distribution\n",
    "# this function convert Astra beam distribution to Ocelot format - ParticleArray. ParticleArray is designed for tracking.\n",
    "# in order to work with converters we have to import specific module from ocelot.adaptors\n",
    "from ocelot.adaptors.astra2ocelot import *"
   ]
  },
  {
   "cell_type": "code",
   "execution_count": 8,
   "metadata": {
    "collapsed": false
   },
   "outputs": [
    {
     "name": "stdout",
     "output_type": "stream",
     "text": [
      "Astra to Ocelot: charge =  2.5e-10\n",
      "Astra to Ocelot: particles number =  200000\n",
      "Astra to Ocelot: energy =  0.00655793899822\n",
      "Astra to Ocelot: s pos =  3.2\n"
     ]
    }
   ],
   "source": [
    "p_array_init = astraBeam2particleArray(filename='beam_distrib.ast')"
   ]
  },
  {
   "cell_type": "code",
   "execution_count": 9,
   "metadata": {
    "collapsed": true
   },
   "outputs": [],
   "source": [
    "# initialization of tracking method\n",
    "method = MethodTM()\n",
    "\n",
    "# for second order tracking we have to choose SecondTM \n",
    "method.global_method = SecondTM\n",
    "\n",
    "# for first order tracking uncomment next line\n",
    "# method.global_method = TransferMap\n",
    "\n",
    "# we will start simulation from point 3.2 from the gun. For this purpose  marker was created (start_sim=Marker()) \n",
    "# and placed in 3.2 m after gun \n",
    "# C3_AH1_1_8_I1 is the last section of the 3.9 GHz cavity\n",
    "lat = MagneticLattice(cell, start=start_sim, stop=C3_AH1_1_8_I1, method=method)"
   ]
  },
  {
   "cell_type": "code",
   "execution_count": 13,
   "metadata": {
    "collapsed": false
   },
   "outputs": [],
   "source": [
    "sc = SpaceCharge()\n",
    "sc.nmesh_xyz = [31, 31, 31] \n",
    "sc.step = 1"
   ]
  },
  {
   "cell_type": "code",
   "execution_count": 11,
   "metadata": {
    "collapsed": false
   },
   "outputs": [
    {
     "name": "stdout",
     "output_type": "stream",
     "text": [
      "z = 17.3514 / 17.35140000000001 : applied: "
     ]
    }
   ],
   "source": [
    "navi = Navigator(lat)\n",
    "\n",
    "# add physics processes from the first element to the last of the lattice\n",
    "navi.add_physics_proc(sc, lat.sequence[0], lat.sequence[-1])\n",
    "\n",
    "# definiing unit step in [m]\n",
    "navi.unit_step = 0.1 \n",
    "\n",
    "# deep copy of the initial beam distribution \n",
    "p_array = deepcopy(p_array_init)\n",
    "tws_track, p_array = track(lat, p_array, navi)"
   ]
  },
  {
   "cell_type": "code",
   "execution_count": 12,
   "metadata": {
    "collapsed": false
   },
   "outputs": [
    {
     "data": {
      "image/png": "[encoded data removed]",
      "text/plain": [
       "<matplotlib.figure.Figure at 0xd63bac8>"
      ]
     },
     "metadata": {},
     "output_type": "display_data"
    }
   ],
   "source": [
    "# you can change top_plot argument, for example top_plot=[\"alpha_x\", \"alpha_y\"]\n",
    "plot_opt_func(lat, tws_track, top_plot=[\"E\"], fig_name=0, legend=False)\n",
    "plt.show()"
   ]
  },
  {
   "cell_type": "code",
   "execution_count": null,
   "metadata": {
    "collapsed": true
   },
   "outputs": [],
   "source": []
  }
 ],
 "metadata": {
  "kernelspec": {
   "display_name": "Python 3",
   "language": "python",
   "name": "python3"
  },
  "language_info": {
   "codemirror_mode": {
    "name": "ipython",
    "version": 3
   },
   "file_extension": ".py",
   "mimetype": "text/x-python",
   "name": "python",
   "nbconvert_exporter": "python",
   "pygments_lexer": "ipython3",
   "version": "3.5.2"
  }
 },
 "nbformat": 4,
 "nbformat_minor": 0
}
