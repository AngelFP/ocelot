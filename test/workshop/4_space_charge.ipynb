{
 "metadata": {
  "kernelspec": {
   "display_name": "Python 3",
   "language": "python",
   "name": "python3"
  },
  "language_info": {
   "codemirror_mode": {
    "name": "ipython",
    "version": 3
   },
   "file_extension": ".py",
   "mimetype": "text/x-python",
   "name": "python",
   "nbconvert_exporter": "python",
   "pygments_lexer": "ipython3",
   "version": "3.5.2"
  },
  "name": "",
  "signature": "sha256:86ea1109278cd4daa2e85deda71685656aec4668f93801488092b302d6271aab"
 },
 "nbformat": 3,
 "nbformat_minor": 0,
 "worksheets": [
  {
   "cells": [
    {
     "cell_type": "markdown",
     "metadata": {},
     "source": [
      "*This notebook was created by [Sergey Tomin](http://www.xfel.eu/organization/staff/tomin_sergey/) for Workshop: [Designing future X-ray FELs](http://www.xrayfels.co.uk/). Source and license info is on [GitHub](https://github.com/iagapov/ocelot/tree/dev/docs). August 2016.*"
     ]
    },
    {
     "cell_type": "markdown",
     "metadata": {},
     "source": [
      "## Tutorial N4. Space Charge.\n",
      "*Second order tracking with space charge effect of the 200k particles.*\n",
      "\n",
      "As an example, we will use lattice file (converted to Ocelot format) of the European XFEL Injector. \n",
      "\n",
      "The space charge forces are calculated by solving the Poisson equation in the bunch frame. \n",
      "Then the Lorentz transformed electromagnetic field is applied as a kick in the laboratory frame.\n",
      "For the solution of the Poisson equation we use an integral representation of the electrostatic potential by convolution of the free-space Green's function with the charge distribution. The convolution equation is solved with the help of the Fast Fourier Transform (FFT). The same algorithm for solution of the 3D Poisson equation is used, for example, in [ASTRA](http://www.desy.de/~mpyflo/).\n",
      "\n",
      "#### This example will cover the following topics:\n",
      "* Initialization of the Space Charge objects and the places of their applying\n",
      "* tracking of second order with space charge effect.\n",
      "\n",
      "#### Requirements \n",
      "* injector_lattice.py - input file, the The European XFEL Injector lattice.\n",
      "* beam_distrib.ast    - input file, initial beam distribution in ASTRA format (was obtained from s2e simulation performed with ASTRA)."
     ]
    },
    {
     "cell_type": "heading",
     "level": 2,
     "metadata": {},
     "source": [
      "Import of modules"
     ]
    },
    {
     "cell_type": "code",
     "collapsed": false,
     "input": [
      "# the output of plotting commands is displayed inline within frontends, \n",
      "# directly below the code cell that produced it\n",
      "%matplotlib inline\n",
      "\n",
      "# this python library provides generic shallow (copy) and deep copy (deepcopy) operations \n",
      "from copy import deepcopy\n",
      "\n",
      "# import from Ocelot main modules and functions\n",
      "from ocelot import *\n",
      "\n",
      "# import from Ocelot graphical modules\n",
      "from ocelot.gui.accelerator import *\n",
      "\n",
      "# import injector lattice\n",
      "from ocelot.test.workshop.injector_lattice import *\n",
      "\n",
      "# load beam distribution\n",
      "# this function convert Astra beam distribution to Ocelot format - ParticleArray. ParticleArray is designed for tracking.\n",
      "# in order to work with converters we have to import specific module from ocelot.adaptors\n",
      "from ocelot.adaptors.astra2ocelot import *"
     ],
     "language": "python",
     "metadata": {},
     "outputs": [
      {
       "output_type": "stream",
       "stream": "stdout",
       "text": [
        "initializing ocelot...\n"
       ]
      }
     ],
     "prompt_number": 1
    },
    {
     "cell_type": "code",
     "collapsed": false,
     "input": [
      "p_array_init = astraBeam2particleArray(filename='beam_distrib.ast')"
     ],
     "language": "python",
     "metadata": {},
     "outputs": [
      {
       "output_type": "stream",
       "stream": "stdout",
       "text": [
        "('Astra to Ocelot: charge = ', 2.5000000000000012e-10)\n",
        "('Astra to Ocelot: particles number = ', 200000)\n",
        "('Astra to Ocelot: energy = ', 0.0065579389982232342)"
       ]
      },
      {
       "output_type": "stream",
       "stream": "stdout",
       "text": [
        "\n",
        "('Astra to Ocelot: s pos = ', 3.2000000000000002)\n"
       ]
      }
     ],
     "prompt_number": 2
    },
    {
     "cell_type": "code",
     "collapsed": true,
     "input": [
      "# initialization of tracking method\n",
      "method = MethodTM()\n",
      "\n",
      "# for second order tracking we have to choose SecondTM \n",
      "method.global_method = SecondTM\n",
      "\n",
      "# for first order tracking uncomment next line\n",
      "# method.global_method = TransferMap\n",
      "\n",
      "# we will start simulation from point 3.2 from the gun. For this purpose  marker was created (start_sim=Marker()) \n",
      "# and placed in 3.2 m after gun \n",
      "# C3_AH1_1_8_I1 is the last section of the 3.9 GHz cavity\n",
      "lat = MagneticLattice(cell, start=start_sim, stop=C3_AH1_1_8_I1, method=method)"
     ],
     "language": "python",
     "metadata": {},
     "outputs": [],
     "prompt_number": 3
    },
    {
     "cell_type": "code",
     "collapsed": false,
     "input": [
      "sc = SpaceCharge()\n",
      "sc.nmesh_xyz = [31, 31, 31] \n",
      "sc.step = 1"
     ],
     "language": "python",
     "metadata": {},
     "outputs": [],
     "prompt_number": 4
    },
    {
     "cell_type": "code",
     "collapsed": false,
     "input": [
      "navi = Navigator(lat)\n",
      "\n",
      "# add physics processes from the first element to the last of the lattice\n",
      "navi.add_physics_proc(sc, lat.sequence[0], lat.sequence[-1])\n",
      "\n",
      "# definiing unit step in [m]\n",
      "navi.unit_step = 0.1 \n",
      "\n",
      "# deep copy of the initial beam distribution \n",
      "p_array = deepcopy(p_array_init)\n",
      "tws_track, p_array = track(lat, p_array, navi)"
     ],
     "language": "python",
     "metadata": {},
     "outputs": [
      {
       "output_type": "stream",
       "stream": "stdout",
       "text": [
        "\r",
        "z = 0.1 / 17.3514 : applied: SpaceCharge"
       ]
      },
      {
       "output_type": "stream",
       "stream": "stdout",
       "text": [
        "\r",
        "z = 0.2 / 17.3514 : applied: SpaceCharge"
       ]
      },
      {
       "output_type": "stream",
       "stream": "stdout",
       "text": [
        "\r",
        "z = 0.3 / 17.3514 : applied: SpaceCharge"
       ]
      },
      {
       "output_type": "stream",
       "stream": "stdout",
       "text": [
        "\r",
        "z = 0.4 / 17.3514 : applied: SpaceCharge"
       ]
      },
      {
       "output_type": "stream",
       "stream": "stdout",
       "text": [
        "\r",
        "z = 0.5 / 17.3514 : applied: SpaceCharge"
       ]
      },
      {
       "output_type": "stream",
       "stream": "stdout",
       "text": [
        "\r",
        "z = 0.6 / 17.3514 : applied: SpaceCharge"
       ]
      },
      {
       "output_type": "stream",
       "stream": "stdout",
       "text": [
        "\r",
        "z = 0.7 / 17.3514 : applied: SpaceCharge"
       ]
      },
      {
       "output_type": "stream",
       "stream": "stdout",
       "text": [
        "\r",
        "z = 0.8 / 17.3514 : applied: SpaceCharge"
       ]
      },
      {
       "output_type": "stream",
       "stream": "stdout",
       "text": [
        "\r",
        "z = 0.9 / 17.3514 : applied: SpaceCharge"
       ]
      },
      {
       "output_type": "stream",
       "stream": "stdout",
       "text": [
        "\r",
        "z = 1.0 / 17.3514 : applied: SpaceCharge"
       ]
      },
      {
       "output_type": "stream",
       "stream": "stdout",
       "text": [
        "\r",
        "z = 1.1 / 17.3514 : applied: SpaceCharge"
       ]
      },
      {
       "output_type": "stream",
       "stream": "stdout",
       "text": [
        "\r",
        "z = 1.2 / 17.3514 : applied: SpaceCharge"
       ]
      },
      {
       "output_type": "stream",
       "stream": "stdout",
       "text": [
        "\r",
        "z = 1.3 / 17.3514 : applied: SpaceCharge"
       ]
      },
      {
       "output_type": "stream",
       "stream": "stdout",
       "text": [
        "\r",
        "z = 1.4 / 17.3514 : applied: SpaceCharge"
       ]
      },
      {
       "output_type": "stream",
       "stream": "stdout",
       "text": [
        "\r",
        "z = 1.5 / 17.3514 : applied: SpaceCharge"
       ]
      },
      {
       "output_type": "stream",
       "stream": "stdout",
       "text": [
        "\r",
        "z = 1.6 / 17.3514 : applied: SpaceCharge"
       ]
      },
      {
       "output_type": "stream",
       "stream": "stdout",
       "text": [
        "\r",
        "z = 1.7 / 17.3514 : applied: SpaceCharge"
       ]
      },
      {
       "output_type": "stream",
       "stream": "stdout",
       "text": [
        "\r",
        "z = 1.8 / 17.3514 : applied: SpaceCharge"
       ]
      },
      {
       "output_type": "stream",
       "stream": "stdout",
       "text": [
        "\r",
        "z = 1.9 / 17.3514 : applied: SpaceCharge"
       ]
      },
      {
       "output_type": "stream",
       "stream": "stdout",
       "text": [
        "\r",
        "z = 2.0 / 17.3514 : applied: SpaceCharge"
       ]
      },
      {
       "output_type": "stream",
       "stream": "stdout",
       "text": [
        "\r",
        "z = 2.1 / 17.3514 : applied: SpaceCharge"
       ]
      },
      {
       "output_type": "stream",
       "stream": "stdout",
       "text": [
        "\r",
        "z = 2.2 / 17.3514 : applied: SpaceCharge"
       ]
      },
      {
       "output_type": "stream",
       "stream": "stdout",
       "text": [
        "\r",
        "z = 2.3 / 17.3514 : applied: SpaceCharge"
       ]
      },
      {
       "output_type": "stream",
       "stream": "stdout",
       "text": [
        "\r",
        "z = 2.4 / 17.3514 : applied: SpaceCharge"
       ]
      },
      {
       "output_type": "stream",
       "stream": "stdout",
       "text": [
        "\r",
        "z = 2.5 / 17.3514 : applied: SpaceCharge"
       ]
      },
      {
       "output_type": "stream",
       "stream": "stdout",
       "text": [
        "\r",
        "z = 2.6 / 17.3514 : applied: SpaceCharge"
       ]
      },
      {
       "output_type": "stream",
       "stream": "stdout",
       "text": [
        "\r",
        "z = 2.7 / 17.3514 : applied: SpaceCharge"
       ]
      },
      {
       "output_type": "stream",
       "stream": "stdout",
       "text": [
        "\r",
        "z = 2.8 / 17.3514 : applied: SpaceCharge"
       ]
      },
      {
       "output_type": "stream",
       "stream": "stdout",
       "text": [
        "\r",
        "z = 2.9 / 17.3514 : applied: SpaceCharge"
       ]
      },
      {
       "output_type": "stream",
       "stream": "stdout",
       "text": [
        "\r",
        "z = 3.0 / 17.3514 : applied: SpaceCharge"
       ]
      },
      {
       "output_type": "stream",
       "stream": "stdout",
       "text": [
        "\r",
        "z = 3.1 / 17.3514 : applied: SpaceCharge"
       ]
      },
      {
       "output_type": "stream",
       "stream": "stdout",
       "text": [
        "\r",
        "z = 3.2 / 17.3514 : applied: SpaceCharge"
       ]
      },
      {
       "output_type": "stream",
       "stream": "stdout",
       "text": [
        "\r",
        "z = 3.3 / 17.3514 : applied: SpaceCharge"
       ]
      },
      {
       "output_type": "stream",
       "stream": "stdout",
       "text": [
        "\r",
        "z = 3.4 / 17.3514 : applied: SpaceCharge"
       ]
      },
      {
       "output_type": "stream",
       "stream": "stdout",
       "text": [
        "\r",
        "z = 3.5 / 17.3514 : applied: SpaceCharge"
       ]
      },
      {
       "output_type": "stream",
       "stream": "stdout",
       "text": [
        "\r",
        "z = 3.6 / 17.3514 : applied: SpaceCharge"
       ]
      },
      {
       "output_type": "stream",
       "stream": "stdout",
       "text": [
        "\r",
        "z = 3.7 / 17.3514 : applied: SpaceCharge"
       ]
      },
      {
       "output_type": "stream",
       "stream": "stdout",
       "text": [
        "\r",
        "z = 3.8 / 17.3514 : applied: SpaceCharge"
       ]
      },
      {
       "output_type": "stream",
       "stream": "stdout",
       "text": [
        "\r",
        "z = 3.9 / 17.3514 : applied: SpaceCharge"
       ]
      },
      {
       "output_type": "stream",
       "stream": "stdout",
       "text": [
        "\r",
        "z = 4.0 / 17.3514 : applied: SpaceCharge"
       ]
      },
      {
       "output_type": "stream",
       "stream": "stdout",
       "text": [
        "\r",
        "z = 4.1 / 17.3514 : applied: SpaceCharge"
       ]
      },
      {
       "output_type": "stream",
       "stream": "stdout",
       "text": [
        "\r",
        "z = 4.2 / 17.3514 : applied: SpaceCharge"
       ]
      },
      {
       "output_type": "stream",
       "stream": "stdout",
       "text": [
        "\r",
        "z = 4.3 / 17.3514 : applied: SpaceCharge"
       ]
      },
      {
       "output_type": "stream",
       "stream": "stdout",
       "text": [
        "\r",
        "z = 4.4 / 17.3514 : applied: SpaceCharge"
       ]
      },
      {
       "output_type": "stream",
       "stream": "stdout",
       "text": [
        "\r",
        "z = 4.5 / 17.3514 : applied: SpaceCharge"
       ]
      },
      {
       "output_type": "stream",
       "stream": "stdout",
       "text": [
        "\r",
        "z = 4.6 / 17.3514 : applied: SpaceCharge"
       ]
      },
      {
       "output_type": "stream",
       "stream": "stdout",
       "text": [
        "\r",
        "z = 4.7 / 17.3514 : applied: SpaceCharge"
       ]
      },
      {
       "output_type": "stream",
       "stream": "stdout",
       "text": [
        "\r",
        "z = 4.8 / 17.3514 : applied: SpaceCharge"
       ]
      },
      {
       "output_type": "stream",
       "stream": "stdout",
       "text": [
        "\r",
        "z = 4.9 / 17.3514 : applied: SpaceCharge"
       ]
      },
      {
       "output_type": "stream",
       "stream": "stdout",
       "text": [
        "\r",
        "z = 5.0 / 17.3514 : applied: SpaceCharge"
       ]
      },
      {
       "output_type": "stream",
       "stream": "stdout",
       "text": [
        "\r",
        "z = 5.1 / 17.3514 : applied: SpaceCharge"
       ]
      },
      {
       "output_type": "stream",
       "stream": "stdout",
       "text": [
        "\r",
        "z = 5.2 / 17.3514 : applied: SpaceCharge"
       ]
      },
      {
       "output_type": "stream",
       "stream": "stdout",
       "text": [
        "\r",
        "z = 5.3 / 17.3514 : applied: SpaceCharge"
       ]
      },
      {
       "output_type": "stream",
       "stream": "stdout",
       "text": [
        "\r",
        "z = 5.4 / 17.3514 : applied: SpaceCharge"
       ]
      },
      {
       "output_type": "stream",
       "stream": "stdout",
       "text": [
        "\r",
        "z = 5.5 / 17.3514 : applied: SpaceCharge"
       ]
      },
      {
       "output_type": "stream",
       "stream": "stdout",
       "text": [
        "\r",
        "z = 5.6 / 17.3514 : applied: SpaceCharge"
       ]
      },
      {
       "output_type": "stream",
       "stream": "stdout",
       "text": [
        "\r",
        "z = 5.7 / 17.3514 : applied: SpaceCharge"
       ]
      },
      {
       "output_type": "stream",
       "stream": "stdout",
       "text": [
        "\r",
        "z = 5.8 / 17.3514 : applied: SpaceCharge"
       ]
      },
      {
       "output_type": "stream",
       "stream": "stdout",
       "text": [
        "\r",
        "z = 5.9 / 17.3514 : applied: SpaceCharge"
       ]
      },
      {
       "output_type": "stream",
       "stream": "stdout",
       "text": [
        "\r",
        "z = 6.0 / 17.3514 : applied: SpaceCharge"
       ]
      },
      {
       "output_type": "stream",
       "stream": "stdout",
       "text": [
        "\r",
        "z = 6.1 / 17.3514 : applied: SpaceCharge"
       ]
      },
      {
       "output_type": "stream",
       "stream": "stdout",
       "text": [
        "\r",
        "z = 6.2 / 17.3514 : applied: SpaceCharge"
       ]
      },
      {
       "output_type": "stream",
       "stream": "stdout",
       "text": [
        "\r",
        "z = 6.3 / 17.3514 : applied: SpaceCharge"
       ]
      },
      {
       "output_type": "stream",
       "stream": "stdout",
       "text": [
        "\r",
        "z = 6.4 / 17.3514 : applied: SpaceCharge"
       ]
      },
      {
       "output_type": "stream",
       "stream": "stdout",
       "text": [
        "\r",
        "z = 6.5 / 17.3514 : applied: SpaceCharge"
       ]
      },
      {
       "output_type": "stream",
       "stream": "stdout",
       "text": [
        "\r",
        "z = 6.6 / 17.3514 : applied: SpaceCharge"
       ]
      },
      {
       "output_type": "stream",
       "stream": "stdout",
       "text": [
        "\r",
        "z = 6.7 / 17.3514 : applied: SpaceCharge"
       ]
      },
      {
       "output_type": "stream",
       "stream": "stdout",
       "text": [
        "\r",
        "z = 6.8 / 17.3514 : applied: SpaceCharge"
       ]
      },
      {
       "output_type": "stream",
       "stream": "stdout",
       "text": [
        "\r",
        "z = 6.9 / 17.3514 : applied: SpaceCharge"
       ]
      },
      {
       "output_type": "stream",
       "stream": "stdout",
       "text": [
        "\r",
        "z = 7.0 / 17.3514 : applied: SpaceCharge"
       ]
      },
      {
       "output_type": "stream",
       "stream": "stdout",
       "text": [
        "\r",
        "z = 7.1 / 17.3514 : applied: SpaceCharge"
       ]
      },
      {
       "output_type": "stream",
       "stream": "stdout",
       "text": [
        "\r",
        "z = 7.2 / 17.3514 : applied: SpaceCharge"
       ]
      },
      {
       "output_type": "stream",
       "stream": "stdout",
       "text": [
        "\r",
        "z = 7.3 / 17.3514 : applied: SpaceCharge"
       ]
      },
      {
       "output_type": "stream",
       "stream": "stdout",
       "text": [
        "\r",
        "z = 7.4 / 17.3514 : applied: SpaceCharge"
       ]
      },
      {
       "output_type": "stream",
       "stream": "stdout",
       "text": [
        "\r",
        "z = 7.5 / 17.3514 : applied: SpaceCharge"
       ]
      },
      {
       "output_type": "stream",
       "stream": "stdout",
       "text": [
        "\r",
        "z = 7.6 / 17.3514 : applied: SpaceCharge"
       ]
      },
      {
       "output_type": "stream",
       "stream": "stdout",
       "text": [
        "\r",
        "z = 7.7 / 17.3514 : applied: SpaceCharge"
       ]
      },
      {
       "output_type": "stream",
       "stream": "stdout",
       "text": [
        "\r",
        "z = 7.8 / 17.3514 : applied: SpaceCharge"
       ]
      },
      {
       "output_type": "stream",
       "stream": "stdout",
       "text": [
        "\r",
        "z = 7.9 / 17.3514 : applied: SpaceCharge"
       ]
      },
      {
       "output_type": "stream",
       "stream": "stdout",
       "text": [
        "\r",
        "z = 8.0 / 17.3514 : applied: SpaceCharge"
       ]
      },
      {
       "output_type": "stream",
       "stream": "stdout",
       "text": [
        "\r",
        "z = 8.1 / 17.3514 : applied: SpaceCharge"
       ]
      },
      {
       "output_type": "stream",
       "stream": "stdout",
       "text": [
        "\r",
        "z = 8.2 / 17.3514 : applied: SpaceCharge"
       ]
      },
      {
       "output_type": "stream",
       "stream": "stdout",
       "text": [
        "\r",
        "z = 8.3 / 17.3514 : applied: SpaceCharge"
       ]
      },
      {
       "output_type": "stream",
       "stream": "stdout",
       "text": [
        "\r",
        "z = 8.4 / 17.3514 : applied: SpaceCharge"
       ]
      },
      {
       "output_type": "stream",
       "stream": "stdout",
       "text": [
        "\r",
        "z = 8.5 / 17.3514 : applied: SpaceCharge"
       ]
      },
      {
       "output_type": "stream",
       "stream": "stdout",
       "text": [
        "\r",
        "z = 8.6 / 17.3514 : applied: SpaceCharge"
       ]
      },
      {
       "output_type": "stream",
       "stream": "stdout",
       "text": [
        "\r",
        "z = 8.7 / 17.3514 : applied: SpaceCharge"
       ]
      },
      {
       "output_type": "stream",
       "stream": "stdout",
       "text": [
        "\r",
        "z = 8.8 / 17.3514 : applied: SpaceCharge"
       ]
      },
      {
       "output_type": "stream",
       "stream": "stdout",
       "text": [
        "\r",
        "z = 8.9 / 17.3514 : applied: SpaceCharge"
       ]
      },
      {
       "output_type": "stream",
       "stream": "stdout",
       "text": [
        "\r",
        "z = 9.0 / 17.3514 : applied: SpaceCharge"
       ]
      },
      {
       "output_type": "stream",
       "stream": "stdout",
       "text": [
        "\r",
        "z = 9.1 / 17.3514 : applied: SpaceCharge"
       ]
      },
      {
       "output_type": "stream",
       "stream": "stdout",
       "text": [
        "\r",
        "z = 9.2 / 17.3514 : applied: SpaceCharge"
       ]
      },
      {
       "output_type": "stream",
       "stream": "stdout",
       "text": [
        "\r",
        "z = 9.3 / 17.3514 : applied: SpaceCharge"
       ]
      },
      {
       "output_type": "stream",
       "stream": "stdout",
       "text": [
        "\r",
        "z = 9.4 / 17.3514 : applied: SpaceCharge"
       ]
      },
      {
       "output_type": "stream",
       "stream": "stdout",
       "text": [
        "\r",
        "z = 9.5 / 17.3514 : applied: SpaceCharge"
       ]
      },
      {
       "output_type": "stream",
       "stream": "stdout",
       "text": [
        "\r",
        "z = 9.6 / 17.3514 : applied: SpaceCharge"
       ]
      },
      {
       "output_type": "stream",
       "stream": "stdout",
       "text": [
        "\r",
        "z = 9.7 / 17.3514 : applied: SpaceCharge"
       ]
      },
      {
       "output_type": "stream",
       "stream": "stdout",
       "text": [
        "\r",
        "z = 9.8 / 17.3514 : applied: SpaceCharge"
       ]
      },
      {
       "output_type": "stream",
       "stream": "stdout",
       "text": [
        "\r",
        "z = 9.9 / 17.3514 : applied: SpaceCharge"
       ]
      },
      {
       "output_type": "stream",
       "stream": "stdout",
       "text": [
        "\r",
        "z = 10.0 / 17.3514 : applied: SpaceCharge"
       ]
      },
      {
       "output_type": "stream",
       "stream": "stdout",
       "text": [
        "\r",
        "z = 10.1 / 17.3514 : applied: SpaceCharge"
       ]
      },
      {
       "output_type": "stream",
       "stream": "stdout",
       "text": [
        "\r",
        "z = 10.2 / 17.3514 : applied: SpaceCharge"
       ]
      },
      {
       "output_type": "stream",
       "stream": "stdout",
       "text": [
        "\r",
        "z = 10.3 / 17.3514 : applied: SpaceCharge"
       ]
      },
      {
       "output_type": "stream",
       "stream": "stdout",
       "text": [
        "\r",
        "z = 10.4 / 17.3514 : applied: SpaceCharge"
       ]
      },
      {
       "output_type": "stream",
       "stream": "stdout",
       "text": [
        "\r",
        "z = 10.5 / 17.3514 : applied: SpaceCharge"
       ]
      },
      {
       "output_type": "stream",
       "stream": "stdout",
       "text": [
        "\r",
        "z = 10.6 / 17.3514 : applied: SpaceCharge"
       ]
      },
      {
       "output_type": "stream",
       "stream": "stdout",
       "text": [
        "\r",
        "z = 10.7 / 17.3514 : applied: SpaceCharge"
       ]
      },
      {
       "output_type": "stream",
       "stream": "stdout",
       "text": [
        "\r",
        "z = 10.8 / 17.3514 : applied: SpaceCharge"
       ]
      },
      {
       "output_type": "stream",
       "stream": "stdout",
       "text": [
        "\r",
        "z = 10.9 / 17.3514 : applied: SpaceCharge"
       ]
      },
      {
       "output_type": "stream",
       "stream": "stdout",
       "text": [
        "\r",
        "z = 11.0 / 17.3514 : applied: SpaceCharge"
       ]
      },
      {
       "output_type": "stream",
       "stream": "stdout",
       "text": [
        "\r",
        "z = 11.1 / 17.3514 : applied: SpaceCharge"
       ]
      },
      {
       "output_type": "stream",
       "stream": "stdout",
       "text": [
        "\r",
        "z = 11.2 / 17.3514 : applied: SpaceCharge"
       ]
      },
      {
       "output_type": "stream",
       "stream": "stdout",
       "text": [
        "\r",
        "z = 11.3 / 17.3514 : applied: SpaceCharge"
       ]
      },
      {
       "output_type": "stream",
       "stream": "stdout",
       "text": [
        "\r",
        "z = 11.4 / 17.3514 : applied: SpaceCharge"
       ]
      },
      {
       "output_type": "stream",
       "stream": "stdout",
       "text": [
        "\r",
        "z = 11.5 / 17.3514 : applied: SpaceCharge"
       ]
      },
      {
       "output_type": "stream",
       "stream": "stdout",
       "text": [
        "\r",
        "z = 11.6 / 17.3514 : applied: SpaceCharge"
       ]
      },
      {
       "output_type": "stream",
       "stream": "stdout",
       "text": [
        "\r",
        "z = 11.7 / 17.3514 : applied: SpaceCharge"
       ]
      },
      {
       "output_type": "stream",
       "stream": "stdout",
       "text": [
        "\r",
        "z = 11.8 / 17.3514 : applied: SpaceCharge"
       ]
      },
      {
       "output_type": "stream",
       "stream": "stdout",
       "text": [
        "\r",
        "z = 11.9 / 17.3514 : applied: SpaceCharge"
       ]
      },
      {
       "output_type": "stream",
       "stream": "stdout",
       "text": [
        "\r",
        "z = 12.0 / 17.3514 : applied: SpaceCharge"
       ]
      },
      {
       "output_type": "stream",
       "stream": "stdout",
       "text": [
        "\r",
        "z = 12.1 / 17.3514 : applied: SpaceCharge"
       ]
      },
      {
       "output_type": "stream",
       "stream": "stdout",
       "text": [
        "\r",
        "z = 12.2 / 17.3514 : applied: SpaceCharge"
       ]
      },
      {
       "output_type": "stream",
       "stream": "stdout",
       "text": [
        "\r",
        "z = 12.3 / 17.3514 : applied: SpaceCharge"
       ]
      },
      {
       "output_type": "stream",
       "stream": "stdout",
       "text": [
        "\r",
        "z = 12.4 / 17.3514 : applied: SpaceCharge"
       ]
      },
      {
       "output_type": "stream",
       "stream": "stdout",
       "text": [
        "\r",
        "z = 12.5 / 17.3514 : applied: SpaceCharge"
       ]
      },
      {
       "output_type": "stream",
       "stream": "stdout",
       "text": [
        "\r",
        "z = 12.6 / 17.3514 : applied: SpaceCharge"
       ]
      },
      {
       "output_type": "stream",
       "stream": "stdout",
       "text": [
        "\r",
        "z = 12.7 / 17.3514 : applied: SpaceCharge"
       ]
      },
      {
       "output_type": "stream",
       "stream": "stdout",
       "text": [
        "\r",
        "z = 12.8 / 17.3514 : applied: SpaceCharge"
       ]
      },
      {
       "output_type": "stream",
       "stream": "stdout",
       "text": [
        "\r",
        "z = 12.9 / 17.3514 : applied: SpaceCharge"
       ]
      },
      {
       "output_type": "stream",
       "stream": "stdout",
       "text": [
        "\r",
        "z = 13.0 / 17.3514 : applied: SpaceCharge"
       ]
      },
      {
       "output_type": "stream",
       "stream": "stdout",
       "text": [
        "\r",
        "z = 13.1 / 17.3514 : applied: SpaceCharge"
       ]
      },
      {
       "output_type": "stream",
       "stream": "stdout",
       "text": [
        "\r",
        "z = 13.2 / 17.3514 : applied: SpaceCharge"
       ]
      },
      {
       "output_type": "stream",
       "stream": "stdout",
       "text": [
        "\r",
        "z = 13.3 / 17.3514 : applied: SpaceCharge"
       ]
      },
      {
       "output_type": "stream",
       "stream": "stdout",
       "text": [
        "\r",
        "z = 13.4 / 17.3514 : applied: SpaceCharge"
       ]
      },
      {
       "output_type": "stream",
       "stream": "stdout",
       "text": [
        "\r",
        "z = 13.5 / 17.3514 : applied: SpaceCharge"
       ]
      },
      {
       "output_type": "stream",
       "stream": "stdout",
       "text": [
        "\r",
        "z = 13.6 / 17.3514 : applied: SpaceCharge"
       ]
      },
      {
       "output_type": "stream",
       "stream": "stdout",
       "text": [
        "\r",
        "z = 13.7 / 17.3514 : applied: SpaceCharge"
       ]
      },
      {
       "output_type": "stream",
       "stream": "stdout",
       "text": [
        "\r",
        "z = 13.8 / 17.3514 : applied: SpaceCharge"
       ]
      },
      {
       "output_type": "stream",
       "stream": "stdout",
       "text": [
        "\r",
        "z = 13.9 / 17.3514 : applied: SpaceCharge"
       ]
      },
      {
       "output_type": "stream",
       "stream": "stdout",
       "text": [
        "\r",
        "z = 14.0 / 17.3514 : applied: SpaceCharge"
       ]
      },
      {
       "output_type": "stream",
       "stream": "stdout",
       "text": [
        "\r",
        "z = 14.1 / 17.3514 : applied: SpaceCharge"
       ]
      },
      {
       "output_type": "stream",
       "stream": "stdout",
       "text": [
        "\r",
        "z = 14.2 / 17.3514 : applied: SpaceCharge"
       ]
      },
      {
       "output_type": "stream",
       "stream": "stdout",
       "text": [
        "\r",
        "z = 14.3 / 17.3514 : applied: SpaceCharge"
       ]
      },
      {
       "output_type": "stream",
       "stream": "stdout",
       "text": [
        "\r",
        "z = 14.4 / 17.3514 : applied: SpaceCharge"
       ]
      },
      {
       "output_type": "stream",
       "stream": "stdout",
       "text": [
        "\r",
        "z = 14.5 / 17.3514 : applied: SpaceCharge"
       ]
      },
      {
       "output_type": "stream",
       "stream": "stdout",
       "text": [
        "\r",
        "z = 14.6 / 17.3514 : applied: SpaceCharge"
       ]
      },
      {
       "output_type": "stream",
       "stream": "stdout",
       "text": [
        "\r",
        "z = 14.7 / 17.3514 : applied: SpaceCharge"
       ]
      },
      {
       "output_type": "stream",
       "stream": "stdout",
       "text": [
        "\r",
        "z = 14.8 / 17.3514 : applied: SpaceCharge"
       ]
      },
      {
       "output_type": "stream",
       "stream": "stdout",
       "text": [
        "\r",
        "z = 14.9 / 17.3514 : applied: SpaceCharge"
       ]
      },
      {
       "output_type": "stream",
       "stream": "stdout",
       "text": [
        "\r",
        "z = 15.0 / 17.3514 : applied: SpaceCharge"
       ]
      },
      {
       "output_type": "stream",
       "stream": "stdout",
       "text": [
        "\r",
        "z = 15.1 / 17.3514 : applied: SpaceCharge"
       ]
      },
      {
       "output_type": "stream",
       "stream": "stdout",
       "text": [
        "\r",
        "z = 15.2 / 17.3514 : applied: SpaceCharge"
       ]
      },
      {
       "output_type": "stream",
       "stream": "stdout",
       "text": [
        "\r",
        "z = 15.3 / 17.3514 : applied: SpaceCharge"
       ]
      },
      {
       "output_type": "stream",
       "stream": "stdout",
       "text": [
        "\r",
        "z = 15.4 / 17.3514 : applied: SpaceCharge"
       ]
      },
      {
       "output_type": "stream",
       "stream": "stdout",
       "text": [
        "\r",
        "z = 15.5 / 17.3514 : applied: SpaceCharge"
       ]
      },
      {
       "output_type": "stream",
       "stream": "stdout",
       "text": [
        "\r",
        "z = 15.6 / 17.3514 : applied: SpaceCharge"
       ]
      },
      {
       "output_type": "stream",
       "stream": "stdout",
       "text": [
        "\r",
        "z = 15.7 / 17.3514 : applied: SpaceCharge"
       ]
      },
      {
       "output_type": "stream",
       "stream": "stdout",
       "text": [
        "\r",
        "z = 15.8 / 17.3514 : applied: SpaceCharge"
       ]
      },
      {
       "output_type": "stream",
       "stream": "stdout",
       "text": [
        "\r",
        "z = 15.9 / 17.3514 : applied: SpaceCharge"
       ]
      },
      {
       "output_type": "stream",
       "stream": "stdout",
       "text": [
        "\r",
        "z = 16.0 / 17.3514 : applied: SpaceCharge"
       ]
      },
      {
       "output_type": "stream",
       "stream": "stdout",
       "text": [
        "\r",
        "z = 16.1 / 17.3514 : applied: SpaceCharge"
       ]
      },
      {
       "output_type": "stream",
       "stream": "stdout",
       "text": [
        "\r",
        "z = 16.2 / 17.3514 : applied: SpaceCharge"
       ]
      },
      {
       "output_type": "stream",
       "stream": "stdout",
       "text": [
        "\r",
        "z = 16.3 / 17.3514 : applied: SpaceCharge"
       ]
      },
      {
       "output_type": "stream",
       "stream": "stdout",
       "text": [
        "\r",
        "z = 16.4 / 17.3514 : applied: SpaceCharge"
       ]
      },
      {
       "output_type": "stream",
       "stream": "stdout",
       "text": [
        "\r",
        "z = 16.5 / 17.3514 : applied: SpaceCharge"
       ]
      },
      {
       "output_type": "stream",
       "stream": "stdout",
       "text": [
        "\r",
        "z = 16.6 / 17.3514 : applied: SpaceCharge"
       ]
      },
      {
       "output_type": "stream",
       "stream": "stdout",
       "text": [
        "\r",
        "z = 16.7 / 17.3514 : applied: SpaceCharge"
       ]
      },
      {
       "output_type": "stream",
       "stream": "stdout",
       "text": [
        "\r",
        "z = 16.8 / 17.3514 : applied: SpaceCharge"
       ]
      },
      {
       "output_type": "stream",
       "stream": "stdout",
       "text": [
        "\r",
        "z = 16.9 / 17.3514 : applied: SpaceCharge"
       ]
      },
      {
       "output_type": "stream",
       "stream": "stdout",
       "text": [
        "\r",
        "z = 17.0 / 17.3514 : applied: SpaceCharge"
       ]
      },
      {
       "output_type": "stream",
       "stream": "stdout",
       "text": [
        "\r",
        "z = 17.1 / 17.3514 : applied: SpaceCharge"
       ]
      },
      {
       "output_type": "stream",
       "stream": "stdout",
       "text": [
        "\r",
        "z = 17.3514 / 17.3514 : applied: "
       ]
      }
     ],
     "prompt_number": 5
    },
    {
     "cell_type": "code",
     "collapsed": false,
     "input": [
      "# you can change top_plot argument, for example top_plot=[\"alpha_x\", \"alpha_y\"]\n",
      "plot_opt_func(lat, tws_track, top_plot=[\"E\"], fig_name=0, legend=False)\n",
      "plt.show()"
     ],
     "language": "python",
     "metadata": {},
     "outputs": [
      {
       "metadata": {},
       "output_type": "display_data",
       "png": "[encoded data removed]",
       "text": [
        "<matplotlib.figure.Figure at 0x3b43b90>"
       ]
      }
     ],
     "prompt_number": 6
    },
    {
     "cell_type": "code",
     "collapsed": true,
     "input": [],
     "language": "python",
     "metadata": {},
     "outputs": [],
     "prompt_number": null
    }
   ],
   "metadata": {}
  }
 ]
}