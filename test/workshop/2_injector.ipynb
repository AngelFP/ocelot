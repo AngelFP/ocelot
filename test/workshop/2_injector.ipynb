{
 "metadata": {
  "kernelspec": {
   "display_name": "Python 3",
   "language": "python",
   "name": "python3"
  },
  "language_info": {
   "codemirror_mode": {
    "name": "ipython",
    "version": 3
   },
   "file_extension": ".py",
   "mimetype": "text/x-python",
   "name": "python",
   "nbconvert_exporter": "python",
   "pygments_lexer": "ipython3",
   "version": "3.5.2"
  },
  "name": "",
  "signature": "sha256:ea59ef87f4683b2c5bafc671534a0fac4230dfdaa7e77729e5ec8106a01da05e"
 },
 "nbformat": 3,
 "nbformat_minor": 0,
 "worksheets": [
  {
   "cells": [
    {
     "cell_type": "markdown",
     "metadata": {},
     "source": [
      "*This notebook was created by [Sergey Tomin](http://www.xfel.eu/organization/staff/tomin_sergey/) for Workshop: [Designing future X-ray FELs](http://www.xrayfels.co.uk/). Source and license info is on [GitHub](https://github.com/iagapov/ocelot/tree/dev/docs). August 2016.*"
     ]
    },
    {
     "cell_type": "markdown",
     "metadata": {},
     "source": [
      "# Tutorial N2.  The European XFEL Injector\n",
      "\n",
      "##### This example will cover the following topics:\n",
      "- calculation of the linear optics for a LINAC\n",
      "- Tracking of the particles in first and second order approximation without any collective effects \n",
      "- and how to display current profile and particle distribution using standard matplotlib tools.  \n",
      "\n",
      "#### Coordiantes\n",
      "Coordinates in Ocelot are following:\n",
      "$$ \\left (x, \\quad x' = \\frac{p_x}{p_0} \\right), \\qquad \\left (y, \\quad y' = \\frac{p_y}{p_0} \\right), \\qquad \\left (\\Delta s = c\\tau, \\quad p = \\frac{\\Delta E}{p_0 c} \\right)$$\n",
      "\n",
      "#### Requirements \n",
      "* injector_lattice.py - input file, the Injector lattice.\n",
      "* beam_distrib.ast    - input file, initial beam distribution in [ASTRA](http://www.desy.de/~mpyflo/) format  (was obtained from simulation performed with ASTRA)."
     ]
    },
    {
     "cell_type": "code",
     "collapsed": true,
     "input": [
      "# the output of plotting commands is displayed inline within frontends, \n",
      "# directly below the code cell that produced it\n",
      "%matplotlib inline"
     ],
     "language": "python",
     "metadata": {},
     "outputs": [],
     "prompt_number": 1
    },
    {
     "cell_type": "code",
     "collapsed": false,
     "input": [
      "# this python library provides generic shallow (copy) and deep copy (deepcopy) operations \n",
      "from copy import deepcopy\n",
      "\n",
      "# import from Ocelot main modules and functions\n",
      "from ocelot import *\n",
      "\n",
      "# import from Ocelot graphical modules\n",
      "from ocelot.gui.accelerator import *\n",
      "\n",
      "# import injector lattice\n",
      "from ocelot.test.workshop.injector_lattice import *"
     ],
     "language": "python",
     "metadata": {},
     "outputs": [
      {
       "output_type": "stream",
       "stream": "stdout",
       "text": [
        "initializing ocelot...\n"
       ]
      }
     ],
     "prompt_number": 2
    },
    {
     "cell_type": "markdown",
     "metadata": {},
     "source": [
      "If you want to see injector_lattice.py file you can run following command (lattice file is very large):\n",
      "```\n",
      "$ %load injector_lattice.py\n",
      "```\n",
      "The variable *cell* contains all the elements of the lattice in right order.\n",
      "\n",
      "And again Ocelot will work with class MagneticLattice instead of simple sequence of element. So we have to run following command. "
     ]
    },
    {
     "cell_type": "code",
     "collapsed": true,
     "input": [
      "lat = MagneticLattice(cell)"
     ],
     "language": "python",
     "metadata": {},
     "outputs": [],
     "prompt_number": 3
    },
    {
     "cell_type": "markdown",
     "metadata": {},
     "source": [
      "## 1. Linear optics calculation of the European XFEL Injector\n",
      "\n",
      "Because we work with linear accelerator we have to define initial energy and initial twiss paramters in order to get \n",
      "correct twiss functions along the Injector. "
     ]
    },
    {
     "cell_type": "code",
     "collapsed": true,
     "input": [
      "# initialization of Twiss object\n",
      "tws0 = Twiss()\n",
      "# defining initial twiss parameters\n",
      "tws0.beta_x = 29.171\n",
      "tws0.beta_y = 29.171\n",
      "tws0.alpha_x = 10.955\n",
      "tws0.alpha_y = 10.955\n",
      "# defining initial electron energy in GeV\n",
      "tws0.E = 0.005 \n",
      "\n",
      "# calculate twiss functions with initial twiss parameters\n",
      "tws = twiss(lat, tws0, nPoints=None)"
     ],
     "language": "python",
     "metadata": {},
     "outputs": [],
     "prompt_number": 4
    },
    {
     "cell_type": "code",
     "collapsed": false,
     "input": [
      "# ploting twiss paramentrs.\n",
      "plot_opt_func(lat, tws, top_plot=[\"Dx\", \"Dy\"], fig_name=\"i1\", legend=False)\n",
      "plt.show()"
     ],
     "language": "python",
     "metadata": {},
     "outputs": [
      {
       "metadata": {},
       "output_type": "display_data",
       "png": "[encoded data removed]",
       "text": [
        "<matplotlib.figure.Figure at 0xbe86490>"
       ]
      }
     ],
     "prompt_number": 5
    },
    {
     "cell_type": "markdown",
     "metadata": {},
     "source": [
      "## 2. Tracking in first and second order approximation without any collective effects \n",
      "\n",
      "#### Loading of beam distribution\n",
      "In order to perform tracking we have to have beam distribution. We will load beam distribution from a ASTRA file ('beam_distrib.ast'). And we convert the Astra beam distribution to Ocelot format - ParticleArray. ParticleArray is designed for tracking.\n",
      "In order to work with converters we have to import specific module from ocelot.adaptors\n",
      "> from ocelot.adaptors.astra2ocelot import *\n",
      "\n",
      "After importing **ocelot.adaptors.astra2ocelot** we can use converter astraBeam2particleArray() to load and convert.\n",
      "As you will see beam distribution consists of 200 000 particles (**that is why loading can take a few second**), charge 250 pC, initial energy is about 6.5 MeV.\n",
      "\n",
      "** Please note that beam file *does not match* to design optics. **\n",
      "\n",
      "**ParticleArray** is a class which includes several parameters and methods. \n",
      "* ParticleArray.particles is a 1D numpy array with coordinates of particles in \n",
      "$$ParticleArray.particles = [\\vec{x_0}, \\vec{x_1}, ..., \\vec{x_n}], $$ where $$\\vec{x_n} = (x_n, x_n', y_n, y_n', \\tau_n, p_n)$$\n",
      "* ParticleArray.s is the longitudinal coordinate of the reference particle in [m]. \n",
      "* ParticleArray.E is the energy of the reference particle in [GeV]. \n",
      "* ParticleArray.q_array - is a 1D numpy array of the charges each (macro) particles in [C]"
     ]
    },
    {
     "cell_type": "code",
     "collapsed": false,
     "input": [
      "from ocelot.adaptors.astra2ocelot import *\n",
      "\n",
      "p_array_init = astraBeam2particleArray(filename='beam_distrib.ast')"
     ],
     "language": "python",
     "metadata": {},
     "outputs": [
      {
       "output_type": "stream",
       "stream": "stdout",
       "text": [
        "('Astra to Ocelot: charge = ', 2.5000000000000012e-10)\n",
        "('Astra to Ocelot: particles number = ', 200000)\n",
        "('Astra to Ocelot: energy = ', 0.0065579389982232342)"
       ]
      },
      {
       "output_type": "stream",
       "stream": "stdout",
       "text": [
        "\n",
        "('Astra to Ocelot: s pos = ', 3.2000000000000002)\n"
       ]
      }
     ],
     "prompt_number": 6
    },
    {
     "cell_type": "markdown",
     "metadata": {},
     "source": [
      "### Selection of the tracking order and lattice for tracking.\n",
      "\n",
      "MagneticLattice(sequence, start=None, stop=None, method=MethodTM()) have wollowing arguments:     \n",
      "* sequence - list of the elements,\n",
      "* start - first element of the lattice. If None, then lattice starts from the first element of the sequence,\n",
      "* stop - last element of the lattice. If None, then lattice stops by the last element of the sequence,\n",
      "* method=MethodTM() - method of the tracking. MethodTM() class assigns transfer map to every element. By default all elements are assigned first order transfer map - TransferMap. One can create one's own map, but there are following predefined maps:\n",
      "    - TransferMap - first order matrices. \n",
      "    - SecondTM - 1st + 2nd order matrices in Transport notation.\n",
      "    - KickTM - kick applyed.\n",
      "    - RungeKuttaTM - Runge-Kutta integrator is applyed, but required 3D magnetic field function element.mag_field = lambda x, y, z: (Bx, By, Bz) (see example ocelot/demos/ebeam/tune_shift.py)"
     ]
    },
    {
     "cell_type": "code",
     "collapsed": true,
     "input": [
      "# initialization of tracking method\n",
      "method = MethodTM()\n",
      "\n",
      "# for second order tracking we have to choose SecondTM \n",
      "method.global_method = SecondTM\n",
      "\n",
      "# for first order tracking uncomment next line\n",
      "# method.global_method = TransferMap\n",
      "\n",
      "# we will start simulation from point 3.2 from the gun. For this purpose  marker was created (start_sim=Marker()) \n",
      "# and placed in 3.2 m after gun \n",
      "# you can change stop element (and the start element, as well) \n",
      "# TDSA_52_I1 - transverse deflection cavity\n",
      "# START_73_I1 - marker before dog leg\n",
      "# START_96_I1 - marker before BC\n",
      "\n",
      "lat = MagneticLattice(cell, start=start_sim, stop=START_73_I1, method=method)"
     ],
     "language": "python",
     "metadata": {},
     "outputs": [],
     "prompt_number": 7
    },
    {
     "cell_type": "markdown",
     "metadata": {},
     "source": [
      "## Tracking\n",
      "for tracking we have to define following objects:\n",
      "* **Navigator** defines step (dz) of tracking and which, if it exists, physical process will be applied at each step.\n",
      "In order to add collective effects (Space charge, CSR or wake) method add_physics_proc() must be run.\n",
      "\n",
      "    - **Method:**\n",
      "        * Navigator.add_physics_proc(physics_proc, elem1, elem2)\n",
      "            - physics_proc - physics process, can be CSR, SpaceCharge or Wake,\n",
      "            - elem1 and elem2 - first and last elements between which the physics process will be applied.\n",
      "    \n",
      "* **track(MagneticLatice, ParticleArray, Navigator)** - the function performs tracking through the lattice [lat] of the particles [p_array]. This function also calculate twiss parameters of the beam distribution on each tracking step. "
     ]
    },
    {
     "cell_type": "code",
     "collapsed": false,
     "input": [
      "navi = Navigator(lat)\n",
      "p_array = deepcopy(p_array_init)\n",
      "tws_track, p_array = track(lat, p_array, navi)"
     ],
     "language": "python",
     "metadata": {},
     "outputs": [
      {
       "output_type": "stream",
       "stream": "stdout",
       "text": [
        "\r",
        "z = 0.0 / 46.6290049999 : applied: "
       ]
      },
      {
       "output_type": "stream",
       "stream": "stdout",
       "text": [
        "\r",
        "z = 0.1712 / 46.6290049999 : applied: "
       ]
      },
      {
       "output_type": "stream",
       "stream": "stdout",
       "text": [
        "\r",
        "z = 1.2089 / 46.6290049999 : applied: "
       ]
      },
      {
       "output_type": "stream",
       "stream": "stdout",
       "text": [
        "\r",
        "z = 1.5548 / 46.6290049999 : applied: "
       ]
      },
      {
       "output_type": "stream",
       "stream": "stdout",
       "text": [
        "\r",
        "z = 2.5925 / 46.6290049999 : applied: "
       ]
      },
      {
       "output_type": "stream",
       "stream": "stdout",
       "text": [
        "\r",
        "z = 2.9384 / 46.6290049999 : applied: "
       ]
      },
      {
       "output_type": "stream",
       "stream": "stdout",
       "text": [
        "\r",
        "z = 3.9761 / 46.6290049999 : applied: "
       ]
      },
      {
       "output_type": "stream",
       "stream": "stdout",
       "text": [
        "\r",
        "z = 4.322 / 46.6290049999 : applied: "
       ]
      },
      {
       "output_type": "stream",
       "stream": "stdout",
       "text": [
        "\r",
        "z = 5.3597 / 46.6290049999 : applied: "
       ]
      },
      {
       "output_type": "stream",
       "stream": "stdout",
       "text": [
        "\r",
        "z = 5.7056 / 46.6290049999 : applied: "
       ]
      },
      {
       "output_type": "stream",
       "stream": "stdout",
       "text": [
        "\r",
        "z = 6.7433 / 46.6290049999 : applied: "
       ]
      },
      {
       "output_type": "stream",
       "stream": "stdout",
       "text": [
        "\r",
        "z = 7.0892 / 46.6290049999 : applied: "
       ]
      },
      {
       "output_type": "stream",
       "stream": "stdout",
       "text": [
        "\r",
        "z = 8.1269 / 46.6290049999 : applied: "
       ]
      },
      {
       "output_type": "stream",
       "stream": "stdout",
       "text": [
        "\r",
        "z = 8.4728 / 46.6290049999 : applied: "
       ]
      },
      {
       "output_type": "stream",
       "stream": "stdout",
       "text": [
        "\r",
        "z = 9.5105 / 46.6290049999 : applied: "
       ]
      },
      {
       "output_type": "stream",
       "stream": "stdout",
       "text": [
        "\r",
        "z = 9.8564 / 46.6290049999 : applied: "
       ]
      },
      {
       "output_type": "stream",
       "stream": "stdout",
       "text": [
        "\r",
        "z = 10.8941 / 46.6290049999 : applied: "
       ]
      },
      {
       "output_type": "stream",
       "stream": "stdout",
       "text": [
        "\r",
        "z = 11.0984 / 46.6290049999 : applied: "
       ]
      },
      {
       "output_type": "stream",
       "stream": "stdout",
       "text": [
        "\r",
        "z = 11.3984 / 46.6290049999 : applied: "
       ]
      },
      {
       "output_type": "stream",
       "stream": "stdout",
       "text": [
        "\r",
        "z = 11.4834 / 46.6290049999 : applied: "
       ]
      },
      {
       "output_type": "stream",
       "stream": "stdout",
       "text": [
        "\r",
        "z = 11.9413 / 46.6290049999 : applied: "
       ]
      },
      {
       "output_type": "stream",
       "stream": "stdout",
       "text": [
        "\r",
        "z = 12.1624 / 46.6290049999 : applied: "
       ]
      },
      {
       "output_type": "stream",
       "stream": "stdout",
       "text": [
        "\r",
        "z = 12.2474 / 46.6290049999 : applied: "
       ]
      },
      {
       "output_type": "stream",
       "stream": "stdout",
       "text": [
        "\r",
        "z = 12.5474 / 46.6290049999 : applied: "
       ]
      },
      {
       "output_type": "stream",
       "stream": "stdout",
       "text": [
        "\r",
        "z = 12.7494 / 46.6290049999 : applied: "
       ]
      },
      {
       "output_type": "stream",
       "stream": "stdout",
       "text": [
        "\r",
        "z = 13.0954 / 46.6290049999 : applied: "
       ]
      },
      {
       "output_type": "stream",
       "stream": "stdout",
       "text": [
        "\r",
        "z = 13.3574 / 46.6290049999 : applied: "
       ]
      },
      {
       "output_type": "stream",
       "stream": "stdout",
       "text": [
        "\r",
        "z = 13.7034 / 46.6290049999 : applied: "
       ]
      },
      {
       "output_type": "stream",
       "stream": "stdout",
       "text": [
        "\r",
        "z = 13.9654 / 46.6290049999 : applied: "
       ]
      },
      {
       "output_type": "stream",
       "stream": "stdout",
       "text": [
        "\r",
        "z = 14.3114 / 46.6290049999 : applied: "
       ]
      },
      {
       "output_type": "stream",
       "stream": "stdout",
       "text": [
        "\r",
        "z = 14.5734 / 46.6290049999 : applied: "
       ]
      },
      {
       "output_type": "stream",
       "stream": "stdout",
       "text": [
        "\r",
        "z = 14.9194 / 46.6290049999 : applied: "
       ]
      },
      {
       "output_type": "stream",
       "stream": "stdout",
       "text": [
        "\r",
        "z = 15.1814 / 46.6290049999 : applied: "
       ]
      },
      {
       "output_type": "stream",
       "stream": "stdout",
       "text": [
        "\r",
        "z = 15.5274 / 46.6290049999 : applied: "
       ]
      },
      {
       "output_type": "stream",
       "stream": "stdout",
       "text": [
        "\r",
        "z = 15.7894 / 46.6290049999 : applied: "
       ]
      },
      {
       "output_type": "stream",
       "stream": "stdout",
       "text": [
        "\r",
        "z = 16.1354 / 46.6290049999 : applied: "
       ]
      },
      {
       "output_type": "stream",
       "stream": "stdout",
       "text": [
        "\r",
        "z = 16.3974 / 46.6290049999 : applied: "
       ]
      },
      {
       "output_type": "stream",
       "stream": "stdout",
       "text": [
        "\r",
        "z = 16.7434 / 46.6290049999 : applied: "
       ]
      },
      {
       "output_type": "stream",
       "stream": "stdout",
       "text": [
        "\r",
        "z = 17.0054 / 46.6290049999 : applied: "
       ]
      },
      {
       "output_type": "stream",
       "stream": "stdout",
       "text": [
        "\r",
        "z = 17.3514 / 46.6290049999 : applied: "
       ]
      },
      {
       "output_type": "stream",
       "stream": "stdout",
       "text": [
        "\r",
        "z = 17.5064 / 46.6290049999 : applied: "
       ]
      },
      {
       "output_type": "stream",
       "stream": "stdout",
       "text": [
        "\r",
        "z = 18.5464 / 46.6290049999 : applied: "
       ]
      },
      {
       "output_type": "stream",
       "stream": "stdout",
       "text": [
        "\r",
        "z = 19.8428 / 46.6290049999 : applied: "
       ]
      },
      {
       "output_type": "stream",
       "stream": "stdout",
       "text": [
        "\r",
        "z = 20.1947 / 46.6290049999 : applied: "
       ]
      },
      {
       "output_type": "stream",
       "stream": "stdout",
       "text": [
        "\r",
        "z = 20.3947 / 46.6290049999 : applied: "
       ]
      },
      {
       "output_type": "stream",
       "stream": "stdout",
       "text": [
        "\r",
        "z = 20.4997 / 46.6290049999 : applied: "
       ]
      },
      {
       "output_type": "stream",
       "stream": "stdout",
       "text": [
        "\r",
        "z = 20.7172 / 46.6290049999 : applied: "
       ]
      },
      {
       "output_type": "stream",
       "stream": "stdout",
       "text": [
        "\r",
        "z = 20.8132 / 46.6290049999 : applied: "
       ]
      },
      {
       "output_type": "stream",
       "stream": "stdout",
       "text": [
        "\r",
        "z = 20.9309 / 46.6290049999 : applied: "
       ]
      },
      {
       "output_type": "stream",
       "stream": "stdout",
       "text": [
        "\r",
        "z = 21.0732 / 46.6290049999 : applied: "
       ]
      },
      {
       "output_type": "stream",
       "stream": "stdout",
       "text": [
        "\r",
        "z = 21.2732 / 46.6290049999 : applied: "
       ]
      },
      {
       "output_type": "stream",
       "stream": "stdout",
       "text": [
        "\r",
        "z = 21.3732 / 46.6290049999 : applied: "
       ]
      },
      {
       "output_type": "stream",
       "stream": "stdout",
       "text": [
        "\r",
        "z = 21.4241998582 / 46.6290049999 : applied: "
       ]
      },
      {
       "output_type": "stream",
       "stream": "stdout",
       "text": [
        "\r",
        "z = 21.6245301417 / 46.6290049999 : applied: "
       ]
      },
      {
       "output_type": "stream",
       "stream": "stdout",
       "text": [
        "\r",
        "z = 21.7250268582 / 46.6290049999 : applied: "
       ]
      },
      {
       "output_type": "stream",
       "stream": "stdout",
       "text": [
        "\r",
        "z = 21.9253571418 / 46.6290049999 : applied: "
       ]
      },
      {
       "output_type": "stream",
       "stream": "stdout",
       "text": [
        "\r",
        "z = 22.017607 / 46.6290049999 : applied: "
       ]
      },
      {
       "output_type": "stream",
       "stream": "stdout",
       "text": [
        "\r",
        "z = 22.113607 / 46.6290049999 : applied: "
       ]
      },
      {
       "output_type": "stream",
       "stream": "stdout",
       "text": [
        "\r",
        "z = 22.385357 / 46.6290049999 : applied: "
       ]
      },
      {
       "output_type": "stream",
       "stream": "stdout",
       "text": [
        "\r",
        "z = 22.579357 / 46.6290049999 : applied: "
       ]
      },
      {
       "output_type": "stream",
       "stream": "stdout",
       "text": [
        "\r",
        "z = 23.319357 / 46.6290049999 : applied: "
       ]
      },
      {
       "output_type": "stream",
       "stream": "stdout",
       "text": [
        "\r",
        "z = 23.513357 / 46.6290049999 : applied: "
       ]
      },
      {
       "output_type": "stream",
       "stream": "stdout",
       "text": [
        "\r",
        "z = 23.6333568582 / 46.6290049999 : applied: "
       ]
      },
      {
       "output_type": "stream",
       "stream": "stdout",
       "text": [
        "\r",
        "z = 23.8336871417 / 46.6290049999 : applied: "
       ]
      },
      {
       "output_type": "stream",
       "stream": "stdout",
       "text": [
        "\r",
        "z = 23.9341848582 / 46.6290049999 : applied: "
       ]
      },
      {
       "output_type": "stream",
       "stream": "stdout",
       "text": [
        "\r",
        "z = 24.1345151417 / 46.6290049999 : applied: "
       ]
      },
      {
       "output_type": "stream",
       "stream": "stdout",
       "text": [
        "\r",
        "z = 24.1855149999 / 46.6290049999 : applied: "
       ]
      },
      {
       "output_type": "stream",
       "stream": "stdout",
       "text": [
        "\r",
        "z = 24.2855149999 / 46.6290049999 : applied: "
       ]
      },
      {
       "output_type": "stream",
       "stream": "stdout",
       "text": [
        "\r",
        "z = 24.4855149999 / 46.6290049999 : applied: "
       ]
      },
      {
       "output_type": "stream",
       "stream": "stdout",
       "text": [
        "\r",
        "z = 24.6940049999 / 46.6290049999 : applied: "
       ]
      },
      {
       "output_type": "stream",
       "stream": "stdout",
       "text": [
        "\r",
        "z = 24.8940049999 / 46.6290049999 : applied: "
       ]
      },
      {
       "output_type": "stream",
       "stream": "stdout",
       "text": [
        "\r",
        "z = 24.9940049999 / 46.6290049999 : applied: "
       ]
      },
      {
       "output_type": "stream",
       "stream": "stdout",
       "text": [
        "\r",
        "z = 25.2970049999 / 46.6290049999 : applied: "
       ]
      },
      {
       "output_type": "stream",
       "stream": "stdout",
       "text": [
        "\r",
        "z = 25.3970049999 / 46.6290049999 : applied: "
       ]
      },
      {
       "output_type": "stream",
       "stream": "stdout",
       "text": [
        "\r",
        "z = 25.5945049999 / 46.6290049999 : applied: "
       ]
      },
      {
       "output_type": "stream",
       "stream": "stdout",
       "text": [
        "\r",
        "z = 25.6905049999 / 46.6290049999 : applied: "
       ]
      },
      {
       "output_type": "stream",
       "stream": "stdout",
       "text": [
        "\r",
        "z = 25.7970049999 / 46.6290049999 : applied: "
       ]
      },
      {
       "output_type": "stream",
       "stream": "stdout",
       "text": [
        "\r",
        "z = 25.9970049999 / 46.6290049999 : applied: "
       ]
      },
      {
       "output_type": "stream",
       "stream": "stdout",
       "text": [
        "\r",
        "z = 26.0670049999 / 46.6290049999 : applied: "
       ]
      },
      {
       "output_type": "stream",
       "stream": "stdout",
       "text": [
        "\r",
        "z = 26.7670049999 / 46.6290049999 : applied: "
       ]
      },
      {
       "output_type": "stream",
       "stream": "stdout",
       "text": [
        "\r",
        "z = 26.8370049999 / 46.6290049999 : applied: "
       ]
      },
      {
       "output_type": "stream",
       "stream": "stdout",
       "text": [
        "\r",
        "z = 27.0370049999 / 46.6290049999 : applied: "
       ]
      },
      {
       "output_type": "stream",
       "stream": "stdout",
       "text": [
        "\r",
        "z = 27.7890049999 / 46.6290049999 : applied: "
       ]
      },
      {
       "output_type": "stream",
       "stream": "stdout",
       "text": [
        "\r",
        "z = 27.9890049999 / 46.6290049999 : applied: "
       ]
      },
      {
       "output_type": "stream",
       "stream": "stdout",
       "text": [
        "\r",
        "z = 28.7290049999 / 46.6290049999 : applied: "
       ]
      },
      {
       "output_type": "stream",
       "stream": "stdout",
       "text": [
        "\r",
        "z = 28.7640049999 / 46.6290049999 : applied: "
       ]
      },
      {
       "output_type": "stream",
       "stream": "stdout",
       "text": [
        "\r",
        "z = 28.9390049999 / 46.6290049999 : applied: "
       ]
      },
      {
       "output_type": "stream",
       "stream": "stdout",
       "text": [
        "\r",
        "z = 29.0390049999 / 46.6290049999 : applied: "
       ]
      },
      {
       "output_type": "stream",
       "stream": "stdout",
       "text": [
        "\r",
        "z = 29.1890049999 / 46.6290049999 : applied: "
       ]
      },
      {
       "output_type": "stream",
       "stream": "stdout",
       "text": [
        "\r",
        "z = 29.3390049999 / 46.6290049999 : applied: "
       ]
      },
      {
       "output_type": "stream",
       "stream": "stdout",
       "text": [
        "\r",
        "z = 29.5390049999 / 46.6290049999 : applied: "
       ]
      },
      {
       "output_type": "stream",
       "stream": "stdout",
       "text": [
        "\r",
        "z = 30.3140049999 / 46.6290049999 : applied: "
       ]
      },
      {
       "output_type": "stream",
       "stream": "stdout",
       "text": [
        "\r",
        "z = 30.4890049999 / 46.6290049999 : applied: "
       ]
      },
      {
       "output_type": "stream",
       "stream": "stdout",
       "text": [
        "\r",
        "z = 30.5890049999 / 46.6290049999 : applied: "
       ]
      },
      {
       "output_type": "stream",
       "stream": "stdout",
       "text": [
        "\r",
        "z = 30.7390049999 / 46.6290049999 : applied: "
       ]
      },
      {
       "output_type": "stream",
       "stream": "stdout",
       "text": [
        "\r",
        "z = 30.8890049999 / 46.6290049999 : applied: "
       ]
      },
      {
       "output_type": "stream",
       "stream": "stdout",
       "text": [
        "\r",
        "z = 31.0890049999 / 46.6290049999 : applied: "
       ]
      },
      {
       "output_type": "stream",
       "stream": "stdout",
       "text": [
        "\r",
        "z = 31.8640049999 / 46.6290049999 : applied: "
       ]
      },
      {
       "output_type": "stream",
       "stream": "stdout",
       "text": [
        "\r",
        "z = 32.1390049999 / 46.6290049999 : applied: "
       ]
      },
      {
       "output_type": "stream",
       "stream": "stdout",
       "text": [
        "\r",
        "z = 32.2390049999 / 46.6290049999 : applied: "
       ]
      },
      {
       "output_type": "stream",
       "stream": "stdout",
       "text": [
        "\r",
        "z = 32.4390049999 / 46.6290049999 : applied: "
       ]
      },
      {
       "output_type": "stream",
       "stream": "stdout",
       "text": [
        "\r",
        "z = 32.6390049999 / 46.6290049999 : applied: "
       ]
      },
      {
       "output_type": "stream",
       "stream": "stdout",
       "text": [
        "\r",
        "z = 32.8590049999 / 46.6290049999 : applied: "
       ]
      },
      {
       "output_type": "stream",
       "stream": "stdout",
       "text": [
        "\r",
        "z = 33.2390049999 / 46.6290049999 : applied: "
       ]
      },
      {
       "output_type": "stream",
       "stream": "stdout",
       "text": [
        "\r",
        "z = 33.5390049999 / 46.6290049999 : applied: "
       ]
      },
      {
       "output_type": "stream",
       "stream": "stdout",
       "text": [
        "\r",
        "z = 33.7390049999 / 46.6290049999 : applied: "
       ]
      },
      {
       "output_type": "stream",
       "stream": "stdout",
       "text": [
        "\r",
        "z = 34.0207049999 / 46.6290049999 : applied: "
       ]
      },
      {
       "output_type": "stream",
       "stream": "stdout",
       "text": [
        "\r",
        "z = 34.3850049999 / 46.6290049999 : applied: "
       ]
      },
      {
       "output_type": "stream",
       "stream": "stdout",
       "text": [
        "\r",
        "z = 34.5350049999 / 46.6290049999 : applied: "
       ]
      },
      {
       "output_type": "stream",
       "stream": "stdout",
       "text": [
        "\r",
        "z = 34.7890049999 / 46.6290049999 : applied: "
       ]
      },
      {
       "output_type": "stream",
       "stream": "stdout",
       "text": [
        "\r",
        "z = 34.9890049999 / 46.6290049999 : applied: "
       ]
      },
      {
       "output_type": "stream",
       "stream": "stdout",
       "text": [
        "\r",
        "z = 35.5390049999 / 46.6290049999 : applied: "
       ]
      },
      {
       "output_type": "stream",
       "stream": "stdout",
       "text": [
        "\r",
        "z = 36.7790049999 / 46.6290049999 : applied: "
       ]
      },
      {
       "output_type": "stream",
       "stream": "stdout",
       "text": [
        "\r",
        "z = 36.8790049999 / 46.6290049999 : applied: "
       ]
      },
      {
       "output_type": "stream",
       "stream": "stdout",
       "text": [
        "\r",
        "z = 36.9790049999 / 46.6290049999 : applied: "
       ]
      },
      {
       "output_type": "stream",
       "stream": "stdout",
       "text": [
        "\r",
        "z = 37.1790049999 / 46.6290049999 : applied: "
       ]
      },
      {
       "output_type": "stream",
       "stream": "stdout",
       "text": [
        "\r",
        "z = 37.3290049999 / 46.6290049999 : applied: "
       ]
      },
      {
       "output_type": "stream",
       "stream": "stdout",
       "text": [
        "\r",
        "z = 38.7790049999 / 46.6290049999 : applied: "
       ]
      },
      {
       "output_type": "stream",
       "stream": "stdout",
       "text": [
        "\r",
        "z = 38.8790049999 / 46.6290049999 : applied: "
       ]
      },
      {
       "output_type": "stream",
       "stream": "stdout",
       "text": [
        "\r",
        "z = 39.5290049999 / 46.6290049999 : applied: "
       ]
      },
      {
       "output_type": "stream",
       "stream": "stdout",
       "text": [
        "\r",
        "z = 39.7290049999 / 46.6290049999 : applied: "
       ]
      },
      {
       "output_type": "stream",
       "stream": "stdout",
       "text": [
        "\r",
        "z = 42.6290049999 / 46.6290049999 : applied: "
       ]
      },
      {
       "output_type": "stream",
       "stream": "stdout",
       "text": [
        "\r",
        "z = 42.8290049999 / 46.6290049999 : applied: "
       ]
      },
      {
       "output_type": "stream",
       "stream": "stdout",
       "text": [
        "\r",
        "z = 44.6290049999 / 46.6290049999 : applied: "
       ]
      },
      {
       "output_type": "stream",
       "stream": "stdout",
       "text": [
        "\r",
        "z = 44.8290049999 / 46.6290049999 : applied: "
       ]
      },
      {
       "output_type": "stream",
       "stream": "stdout",
       "text": [
        "\r",
        "z = 45.5290049999 / 46.6290049999 : applied: "
       ]
      },
      {
       "output_type": "stream",
       "stream": "stdout",
       "text": [
        "\r",
        "z = 45.7290049999 / 46.6290049999 : applied: "
       ]
      },
      {
       "output_type": "stream",
       "stream": "stdout",
       "text": [
        "\r",
        "z = 45.9290049999 / 46.6290049999 : applied: "
       ]
      },
      {
       "output_type": "stream",
       "stream": "stdout",
       "text": [
        "\r",
        "z = 46.1290049999 / 46.6290049999 : applied: "
       ]
      },
      {
       "output_type": "stream",
       "stream": "stdout",
       "text": [
        "\r",
        "z = 46.2290049999 / 46.6290049999 : applied: "
       ]
      },
      {
       "output_type": "stream",
       "stream": "stdout",
       "text": [
        "\r",
        "z = 46.4290049999 / 46.6290049999 : applied: "
       ]
      },
      {
       "output_type": "stream",
       "stream": "stdout",
       "text": [
        "\r",
        "z = 46.5290049999 / 46.6290049999 : applied: "
       ]
      },
      {
       "output_type": "stream",
       "stream": "stdout",
       "text": [
        "\r",
        "z = 46.6290049999 / 46.6290049999 : applied: "
       ]
      }
     ],
     "prompt_number": 8
    },
    {
     "cell_type": "code",
     "collapsed": false,
     "input": [
      "# you can change top_plot argument, for example top_plot=[\"alpha_x\", \"alpha_y\"]\n",
      "plot_opt_func(lat, tws_track, top_plot=[\"E\"], fig_name=0, legend=False)\n",
      "plt.show()"
     ],
     "language": "python",
     "metadata": {},
     "outputs": [
      {
       "metadata": {},
       "output_type": "display_data",
       "png": "[encoded data removed]",
       "text": [
        "<matplotlib.figure.Figure at 0xf4dd690>"
       ]
      }
     ],
     "prompt_number": 9
    },
    {
     "cell_type": "heading",
     "level": 3,
     "metadata": {},
     "source": [
      "Current profile"
     ]
    },
    {
     "cell_type": "code",
     "collapsed": false,
     "input": [
      "bins_start, hist_start = get_current(p_array, charge=p_array.q_array[0], num_bins=200)\n",
      "\n",
      "plt.figure(4)\n",
      "plt.title(\"current: end\")\n",
      "plt.plot(bins_start*1000, hist_start)\n",
      "plt.xlabel(\"s, mm\")\n",
      "plt.ylabel(\"I, A\")\n",
      "plt.grid(True)\n",
      "plt.show()"
     ],
     "language": "python",
     "metadata": {},
     "outputs": [
      {
       "output_type": "stream",
       "stream": "stdout",
       "text": [
        "('Imax = ', 13.237258046469654)\n"
       ]
      },
      {
       "metadata": {},
       "output_type": "display_data",
       "png": "[encoded data removed]",
       "text": [
        "<matplotlib.figure.Figure at 0xc33eab0>"
       ]
      }
     ],
     "prompt_number": 10
    },
    {
     "cell_type": "heading",
     "level": 3,
     "metadata": {},
     "source": [
      "Beam distribution"
     ]
    },
    {
     "cell_type": "code",
     "collapsed": false,
     "input": [
      "tau = np.array([p.tau for p in p_array])\n",
      "dp = np.array([p.p for p in p_array])\n",
      "x = np.array([p.x for p in p_array])\n",
      "y = np.array([p.y for p in p_array])\n",
      "\n",
      "ax1 = plt.subplot(311)\n",
      "ax1.plot(-tau*1000, x*1000, 'r.')\n",
      "plt.setp(ax1.get_xticklabels(), visible=False)\n",
      "plt.ylabel(\"x, mm\")\n",
      "plt.grid(True)\n",
      "\n",
      "ax2 = plt.subplot(312, sharex=ax1)\n",
      "ax2.plot(-tau*1000, y*1000, 'r.')\n",
      "plt.setp(ax2.get_xticklabels(), visible=False)\n",
      "plt.ylabel(\"y, mm\")\n",
      "plt.grid(True)\n",
      "\n",
      "ax3 = plt.subplot(313, sharex=ax1)\n",
      "ax3.plot(-tau*1000, dp, 'r.')\n",
      "plt.ylabel(\"dE/E\")\n",
      "plt.xlabel(\"s, mm\")\n",
      "plt.grid(True)\n",
      "plt.show()"
     ],
     "language": "python",
     "metadata": {},
     "outputs": [
      {
       "metadata": {},
       "output_type": "display_data",
       "png": "[encoded data removed]",
       "text": [
        "<matplotlib.figure.Figure at 0xc759730>"
       ]
      }
     ],
     "prompt_number": 11
    },
    {
     "cell_type": "code",
     "collapsed": true,
     "input": [],
     "language": "python",
     "metadata": {},
     "outputs": [],
     "prompt_number": null
    }
   ],
   "metadata": {}
  }
 ]
}